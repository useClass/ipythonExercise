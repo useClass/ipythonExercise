{
 "metadata": {
  "name": "Untitled2"
 }, 
 "nbformat": 2, 
 "worksheets": [
  {
   "cells": [
    {
     "cell_type": "code", 
     "collapsed": false, 
     "input": [
      "import pandas.io.data as web", 
      "px = web.get_data_yahoo('SPY')['Adj Close']*10", 
      "px"
     ], 
     "language": "python", 
     "outputs": [
      {
       "output_type": "pyout", 
       "prompt_number": 4, 
       "text": [
        "Date", 
        "2010-01-04     992.92299", 
        "2010-01-05     995.55135", 
        "2010-01-06     996.25228", 
        "2010-01-07    1000.45775", 
        "2010-01-08    1003.78704", 
        "2010-01-11    1005.18888", 
        "2010-01-12     995.81425", 
        "2010-01-13    1004.22513", 
        "2010-01-14    1006.94113", 
        "2010-01-15     995.63899", 
        "2010-01-19    1008.08008", 
        "2010-01-20     997.82932", 
        "2010-01-21     978.64196", 
        "2010-01-22     956.82624", 
        "2010-01-25     961.73257", 
        "2010-01-26     957.70236", 
        "2010-01-27     962.25829", 
        "2010-01-28     951.21898", 
        "2010-01-29     940.88059", 
        "2010-02-01     955.51202", 
        "2010-02-02     967.07699", 
        "2010-02-03     962.25829", 
        "2010-02-04     932.55735", 
        "2010-02-05     934.48485", 
        "2010-02-08     927.73858", 
        "2010-02-09     939.39118", 
        "2010-02-10     937.55131", 
        "2010-02-11     947.36397", 
        "2010-02-12     946.57548", 
        "2010-02-16     961.46974", 
        "                 ...    ", 
        "2016-05-18    2038.49901", 
        "2016-05-19    2031.43567", 
        "2016-05-20    2044.26902", 
        "2016-05-23    2041.48352", 
        "2016-05-24    2067.94579", 
        "2016-05-25    2081.97288", 
        "2016-05-26    2082.56975", 
        "2016-05-27    2091.52328", 
        "2016-05-31    2087.54388", 
        "2016-06-01    2091.82171", 
        "2016-06-02    2098.18860", 
        "2016-06-03    2091.92114", 
        "2016-06-06    2102.56586", 
        "2016-06-07    2105.84865", 
        "2016-06-08    2112.71298", 
        "2016-06-09    2109.82805", 
        "2016-06-10    2089.83209", 
        "2016-06-13    2073.71580", 
        "2016-06-14    2069.63697", 
        "2016-06-15    2066.75204", 
        "2016-06-16    2072.91992", 
        "2016-06-17    2065.20004", 
        "2016-06-20    2078.50006", 
        "2016-06-21    2084.40002", 
        "2016-06-22    2081.00006", 
        "2016-06-23    2108.09998", 
        "2016-06-24    2032.40005", 
        "2016-06-27    1996.00006", 
        "2016-06-28    2031.99997", 
        "2016-06-29    2066.60004", 
        "Name: Adj Close, dtype: float64"
       ]
      }
     ], 
     "prompt_number": 4
    }, 
    {
     "cell_type": "code", 
     "collapsed": false, 
     "input": [
      "import pandas as pd", 
      "from datetime import datetime", 
      "expiry = {'ESU2':datetime(2012,9,21),", 
      "          'ESZ2':datetime(2012,12,21)}", 
      "expiry = pd.Series(expiry).order()", 
      "expiry"
     ], 
     "language": "python", 
     "outputs": [
      {
       "output_type": "stream", 
       "stream": "stderr", 
       "text": [
        "-c:5: FutureWarning: order is deprecated, use sort_values(...)"
       ]
      }, 
      {
       "output_type": "pyout", 
       "prompt_number": 9, 
       "text": [
        "ESU2   2012-09-21", 
        "ESZ2   2012-12-21", 
        "dtype: datetime64[ns]"
       ]
      }
     ], 
     "prompt_number": 9
    }, 
    {
     "cell_type": "code", 
     "collapsed": false, 
     "input": [
      "np.random.seed(12347)", 
      "N=200", 
      "walk = (np.random.randint(0,200,size=N) - 100)*0.25", 
      "perturb = (np.random.randint(0,20,size=N) - 10)*0.25", 
      "walk = walk.cumsum()", 
      "", 
      "rng = pd.date_range(px.index[0],periods=len(px)+N,freq='B')", 
      "near = np.concatenate([px.values,px.values[-1]+walk])", 
      "far = np.concatenate([px.values,px.values[-1]+walk+perturb])", 
      "prices = pd.DataFrame({'ESU2':near,'ESZ2':far},index=rng)", 
      "prices.tail()"
     ], 
     "language": "python", 
     "outputs": [
      {
       "html": [
        "<div style=\"max-width:1500px;overflow:auto;\">", 
        "<table border=\"1\" class=\"dataframe\">", 
        "  <thead>", 
        "    <tr style=\"text-align: right;\">", 
        "      <th></th>", 
        "      <th>ESU2</th>", 
        "      <th>ESZ2</th>", 
        "    </tr>", 
        "  </thead>", 
        "  <tbody>", 
        "    <tr>", 
        "      <th>2017-01-06</th>", 
        "      <td>2095.85004</td>", 
        "      <td>2097.60004</td>", 
        "    </tr>", 
        "    <tr>", 
        "      <th>2017-01-09</th>", 
        "      <td>2082.10004</td>", 
        "      <td>2084.35004</td>", 
        "    </tr>", 
        "    <tr>", 
        "      <th>2017-01-10</th>", 
        "      <td>2090.10004</td>", 
        "      <td>2091.85004</td>", 
        "    </tr>", 
        "    <tr>", 
        "      <th>2017-01-11</th>", 
        "      <td>2106.60004</td>", 
        "      <td>2105.85004</td>", 
        "    </tr>", 
        "    <tr>", 
        "      <th>2017-01-12</th>", 
        "      <td>2086.60004</td>", 
        "      <td>2084.35004</td>", 
        "    </tr>", 
        "  </tbody>", 
        "</table>", 
        "</div>"
       ], 
       "output_type": "pyout", 
       "prompt_number": 17, 
       "text": [
        "                  ESU2        ESZ2", 
        "2017-01-06  2095.85004  2097.60004", 
        "2017-01-09  2082.10004  2084.35004", 
        "2017-01-10  2090.10004  2091.85004", 
        "2017-01-11  2106.60004  2105.85004", 
        "2017-01-12  2086.60004  2084.35004"
       ]
      }
     ], 
     "prompt_number": 17
    }, 
    {
     "cell_type": "code", 
     "collapsed": false, 
     "input": [
      "def get_roll_weights(start,epiry,items,roll_periods=5):", 
      "    dates = pd.date_range(start,expiry[-1],freq='B')", 
      "    weights = pd.DataFrame(np.zeros(len(dates),len(items))),index=dates,columns=items", 
      "prev_date =weights.index[0]", 
      "for i,(item,ex_date) in enumerate(expiry.iteritems()):", 
      "    if i < len(expiry) - 1:", 
      "        weights.ix[prev_date:ex_date - pd.offsets.BDay(),item]=1", 
      "        roll_rng = pd.date_range(end=ex_date - pd.offsets.BDay(),", 
      "                                 periods=roll_periods+1,freq='B')", 
      "        decay_weights = np.linspace(0,1,roll_periods+1)", 
      "        weights.ix[roll_rng,item]=1-decay_weights", 
      "        weights.ix[roll_rng,expiry.index[i+1]] = decay_weights", 
      "    else:", 
      "        weights.ix[prev_date:,item]=1", 
      "        ", 
      "    prev_date = ex_date", 
      "return weights"
     ], 
     "language": "python", 
     "outputs": [
      {
       "ename": "SyntaxError", 
       "evalue": "can't assign to function call (<ipython-input-18-5416e9fdf190>, line 3)", 
       "output_type": "pyerr", 
       "traceback": [
        "<span class=\"ansicyan\">  File </span><span class=\"ansigreen\">&quot;&lt;ipython-input-18-5416e9fdf190&gt;&quot;</span><span class=\"ansicyan\">, line </span><span class=\"ansigreen\">3</span>\n<span class=\"ansired\">SyntaxError</span><span class=\"ansired\">:</span> can&apos;t assign to function call (&lt;ipython-input-18-5416e9fdf190&gt;, line 3)\n"
       ]
      }
     ], 
     "prompt_number": 18
    }, 
    {
     "cell_type": "code", 
     "collapsed": true, 
     "input": [], 
     "language": "python", 
     "outputs": [], 
     "prompt_number": "&nbsp;"
    }
   ]
  }
 ]
}