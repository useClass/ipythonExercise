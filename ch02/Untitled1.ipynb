{
 "metadata": {
  "name": "Untitled1"
 }, 
 "nbformat": 2, 
 "worksheets": [
  {
   "cells": [
    {
     "cell_type": "code", 
     "collapsed": false, 
     "input": [
      "data1 = [6,7.5,8,0,1]", 
      "arr1 = np.array(data1)", 
      "arr1"
     ], 
     "language": "python", 
     "outputs": [
      {
       "output_type": "pyout", 
       "prompt_number": 2, 
       "text": [
        "array([ 6. ,  7.5,  8. ,  0. ,  1. ])"
       ]
      }
     ], 
     "prompt_number": 2
    }, 
    {
     "cell_type": "code", 
     "collapsed": false, 
     "input": [
      "data2 = [[1,2,3,4],[5,6,7,8]]", 
      "arr2 = np.array(data2)", 
      "arr2"
     ], 
     "language": "python", 
     "outputs": [
      {
       "output_type": "pyout", 
       "prompt_number": 4, 
       "text": [
        "array([[1, 2, 3, 4],", 
        "       [5, 6, 7, 8]])"
       ]
      }
     ], 
     "prompt_number": 4
    }, 
    {
     "cell_type": "code", 
     "collapsed": false, 
     "input": [
      "arr2.ndim"
     ], 
     "language": "python", 
     "outputs": [
      {
       "output_type": "pyout", 
       "prompt_number": 5, 
       "text": [
        "2"
       ]
      }
     ], 
     "prompt_number": 5
    }, 
    {
     "cell_type": "code", 
     "collapsed": false, 
     "input": [
      "arr2.shape"
     ], 
     "language": "python", 
     "outputs": [
      {
       "output_type": "pyout", 
       "prompt_number": 6, 
       "text": [
        "(2, 4)"
       ]
      }
     ], 
     "prompt_number": 6
    }, 
    {
     "cell_type": "code", 
     "collapsed": false, 
     "input": [
      "arr1.dtype"
     ], 
     "language": "python", 
     "outputs": [
      {
       "output_type": "pyout", 
       "prompt_number": 7, 
       "text": [
        "dtype(&apos;float64&apos;)"
       ]
      }
     ], 
     "prompt_number": 7
    }, 
    {
     "cell_type": "code", 
     "collapsed": false, 
     "input": [
      "arr2.dtype"
     ], 
     "language": "python", 
     "outputs": [
      {
       "output_type": "pyout", 
       "prompt_number": 9, 
       "text": [
        "dtype(&apos;int32&apos;)"
       ]
      }
     ], 
     "prompt_number": 9
    }, 
    {
     "cell_type": "code", 
     "collapsed": false, 
     "input": [
      "np.zeros(10)", 
      "array([0.,0.,0.,0.,0.,0.,0.,0.,0.,0.])", 
      "np.zeros((3,6))"
     ], 
     "language": "python", 
     "outputs": [
      {
       "output_type": "pyout", 
       "prompt_number": 10, 
       "text": [
        "array([[ 0.,  0.,  0.,  0.,  0.,  0.],", 
        "       [ 0.,  0.,  0.,  0.,  0.,  0.],", 
        "       [ 0.,  0.,  0.,  0.,  0.,  0.]])"
       ]
      }
     ], 
     "prompt_number": 10
    }, 
    {
     "cell_type": "code", 
     "collapsed": false, 
     "input": [
      "np.empty((2,3,2))"
     ], 
     "language": "python", 
     "outputs": [
      {
       "output_type": "pyout", 
       "prompt_number": 11, 
       "text": [
        "array([[[ -7.29058536e+046,   4.68671570e+218],", 
        "        [  1.29567277e+083,  -5.72274725e+259],", 
        "        [ -1.69253202e+124,   1.08857507e+296]],", 
        "", 
        "       [[  3.01091341e+160,   4.10957136e-280],", 
        "        [ -3.92924203e+201,  -7.82371953e-244],", 
        "        [  6.99833529e+237,   9.53712963e-203]]])"
       ]
      }
     ], 
     "prompt_number": 11
    }, 
    {
     "cell_type": "code", 
     "collapsed": false, 
     "input": [
      "np.arange(15)"
     ], 
     "language": "python", 
     "outputs": [
      {
       "output_type": "pyout", 
       "prompt_number": 12, 
       "text": [
        "array([ 0,  1,  2,  3,  4,  5,  6,  7,  8,  9, 10, 11, 12, 13, 14])"
       ]
      }
     ], 
     "prompt_number": 12
    }, 
    {
     "cell_type": "code", 
     "collapsed": false, 
     "input": [
      "arr1 = np.array([1,2,3],dtype=np.float64)", 
      "arr2 = np.array([1,2,3],dtype=np.int32)", 
      "arr1.dtype"
     ], 
     "language": "python", 
     "outputs": [
      {
       "output_type": "pyout", 
       "prompt_number": 17, 
       "text": [
        "dtype(&apos;float64&apos;)"
       ]
      }
     ], 
     "prompt_number": 17
    }, 
    {
     "cell_type": "code", 
     "collapsed": false, 
     "input": [
      "arr2.dtype"
     ], 
     "language": "python", 
     "outputs": [
      {
       "output_type": "pyout", 
       "prompt_number": 16, 
       "text": [
        "dtype(&apos;int32&apos;)"
       ]
      }
     ], 
     "prompt_number": 16
    }, 
    {
     "cell_type": "code", 
     "collapsed": false, 
     "input": [
      "arr = np.array([1,2,3,4,5])", 
      "arr.dtype"
     ], 
     "language": "python", 
     "outputs": [
      {
       "output_type": "pyout", 
       "prompt_number": 19, 
       "text": [
        "dtype(&apos;int32&apos;)"
       ]
      }
     ], 
     "prompt_number": 19
    }, 
    {
     "cell_type": "code", 
     "collapsed": false, 
     "input": [
      "float_arr = arr.astype(np.float64)", 
      "float_arr.dtype", 
      "dtype('float64')"
     ], 
     "language": "python", 
     "outputs": [
      {
       "output_type": "pyout", 
       "prompt_number": 20, 
       "text": [
        "dtype(&apos;float64&apos;)"
       ]
      }
     ], 
     "prompt_number": 20
    }, 
    {
     "cell_type": "code", 
     "collapsed": false, 
     "input": [
      "arr = np.array([3.7,-1.2,-2.6,0.5,12.9,10.1])", 
      "arr"
     ], 
     "language": "python", 
     "outputs": [
      {
       "output_type": "pyout", 
       "prompt_number": 21, 
       "text": [
        "array([  3.7,  -1.2,  -2.6,   0.5,  12.9,  10.1])"
       ]
      }
     ], 
     "prompt_number": 21
    }, 
    {
     "cell_type": "code", 
     "collapsed": false, 
     "input": [
      "arr.astype(np.int32)"
     ], 
     "language": "python", 
     "outputs": [
      {
       "output_type": "pyout", 
       "prompt_number": 22, 
       "text": [
        "array([ 3, -1, -2,  0, 12, 10])"
       ]
      }
     ], 
     "prompt_number": 22
    }, 
    {
     "cell_type": "code", 
     "collapsed": false, 
     "input": [
      "numeric_strings = np.array(['1.25','-9.6','42'],dtype=np.string_)", 
      "numeric_strings.astype(float)"
     ], 
     "language": "python", 
     "outputs": [
      {
       "output_type": "pyout", 
       "prompt_number": 24, 
       "text": [
        "array([  1.25,  -9.6 ,  42.  ])"
       ]
      }
     ], 
     "prompt_number": 24
    }, 
    {
     "cell_type": "code", 
     "collapsed": false, 
     "input": [
      "int_array = np.arange(10)", 
      "calibers = np.array([.22,.270,.357,.380,.44,.50],dtype=np.float64)", 
      "int_array.astype(calibers.dtype)"
     ], 
     "language": "python", 
     "outputs": [
      {
       "output_type": "pyout", 
       "prompt_number": 25, 
       "text": [
        "array([ 0.,  1.,  2.,  3.,  4.,  5.,  6.,  7.,  8.,  9.])"
       ]
      }
     ], 
     "prompt_number": 25
    }, 
    {
     "cell_type": "code", 
     "collapsed": false, 
     "input": [
      "empty_uint32 = np.empty(8,dtype='u4')", 
      "empty_uint32"
     ], 
     "language": "python", 
     "outputs": [
      {
       "output_type": "pyout", 
       "prompt_number": 28, 
       "text": [
        "array([0, 0, 0, 0, 0, 0, 0, 0], dtype=uint32)"
       ]
      }
     ], 
     "prompt_number": 28
    }, 
    {
     "cell_type": "code", 
     "collapsed": false, 
     "input": [
      "arr = np.array([[1.,2.,3.],[4.,5.,6.]])", 
      "arr"
     ], 
     "language": "python", 
     "outputs": [
      {
       "output_type": "pyout", 
       "prompt_number": 29, 
       "text": [
        "array([[ 1.,  2.,  3.],", 
        "       [ 4.,  5.,  6.]])"
       ]
      }
     ], 
     "prompt_number": 29
    }, 
    {
     "cell_type": "code", 
     "collapsed": false, 
     "input": [
      "arr * arr"
     ], 
     "language": "python", 
     "outputs": [
      {
       "output_type": "pyout", 
       "prompt_number": 30, 
       "text": [
        "array([[  1.,   4.,   9.],", 
        "       [ 16.,  25.,  36.]])"
       ]
      }
     ], 
     "prompt_number": 30
    }, 
    {
     "cell_type": "code", 
     "collapsed": false, 
     "input": [
      "arr-arr"
     ], 
     "language": "python", 
     "outputs": [
      {
       "output_type": "pyout", 
       "prompt_number": 31, 
       "text": [
        "array([[ 0.,  0.,  0.],", 
        "       [ 0.,  0.,  0.]])"
       ]
      }
     ], 
     "prompt_number": 31
    }, 
    {
     "cell_type": "code", 
     "collapsed": false, 
     "input": [
      "1/arr"
     ], 
     "language": "python", 
     "outputs": [
      {
       "output_type": "pyout", 
       "prompt_number": 32, 
       "text": [
        "array([[ 1.        ,  0.5       ,  0.33333333],", 
        "       [ 0.25      ,  0.2       ,  0.16666667]])"
       ]
      }
     ], 
     "prompt_number": 32
    }, 
    {
     "cell_type": "code", 
     "collapsed": false, 
     "input": [
      "arr**0.5"
     ], 
     "language": "python", 
     "outputs": [
      {
       "output_type": "pyout", 
       "prompt_number": 34, 
       "text": [
        "array([[ 1.        ,  1.41421356,  1.73205081],", 
        "       [ 2.        ,  2.23606798,  2.44948974]])"
       ]
      }
     ], 
     "prompt_number": 34
    }, 
    {
     "cell_type": "code", 
     "collapsed": false, 
     "input": [
      "arr = np.arange(10)", 
      "arr"
     ], 
     "language": "python", 
     "outputs": [
      {
       "output_type": "pyout", 
       "prompt_number": 35, 
       "text": [
        "array([0, 1, 2, 3, 4, 5, 6, 7, 8, 9])"
       ]
      }
     ], 
     "prompt_number": 35
    }, 
    {
     "cell_type": "code", 
     "collapsed": false, 
     "input": [
      "arr[5]"
     ], 
     "language": "python", 
     "outputs": [
      {
       "output_type": "pyout", 
       "prompt_number": 36, 
       "text": [
        "5"
       ]
      }
     ], 
     "prompt_number": 36
    }, 
    {
     "cell_type": "code", 
     "collapsed": false, 
     "input": [
      "arr[5:8]"
     ], 
     "language": "python", 
     "outputs": [
      {
       "output_type": "pyout", 
       "prompt_number": 37, 
       "text": [
        "array([5, 6, 7])"
       ]
      }
     ], 
     "prompt_number": 37
    }, 
    {
     "cell_type": "code", 
     "collapsed": false, 
     "input": [
      "arr[5:8] = 12", 
      "arr"
     ], 
     "language": "python", 
     "outputs": [
      {
       "output_type": "pyout", 
       "prompt_number": 38, 
       "text": [
        "array([ 0,  1,  2,  3,  4, 12, 12, 12,  8,  9])"
       ]
      }
     ], 
     "prompt_number": 38
    }, 
    {
     "cell_type": "code", 
     "collapsed": false, 
     "input": [
      "arr_slice = arr[5:8]", 
      "arr_slice[1] = 12345", 
      "arr"
     ], 
     "language": "python", 
     "outputs": [
      {
       "output_type": "pyout", 
       "prompt_number": 39, 
       "text": [
        "array([    0,     1,     2,     3,     4,    12, 12345,    12,     8,     9])"
       ]
      }
     ], 
     "prompt_number": 39
    }, 
    {
     "cell_type": "code", 
     "collapsed": false, 
     "input": [
      "arr_slice[:] = 64", 
      "arr"
     ], 
     "language": "python", 
     "outputs": [
      {
       "output_type": "pyout", 
       "prompt_number": 40, 
       "text": [
        "array([ 0,  1,  2,  3,  4, 64, 64, 64,  8,  9])"
       ]
      }
     ], 
     "prompt_number": 40
    }, 
    {
     "cell_type": "code", 
     "collapsed": false, 
     "input": [
      "arr2d = np.array([[1,2,3],[4,5,6],[7,8,9]])", 
      "arr2d[2]", 
      "array([7,8,9])"
     ], 
     "language": "python", 
     "outputs": [
      {
       "output_type": "pyout", 
       "prompt_number": 41, 
       "text": [
        "array([7, 8, 9])"
       ]
      }
     ], 
     "prompt_number": 41
    }, 
    {
     "cell_type": "code", 
     "collapsed": false, 
     "input": [
      "arr2d[0][2]"
     ], 
     "language": "python", 
     "outputs": [
      {
       "output_type": "pyout", 
       "prompt_number": 42, 
       "text": [
        "3"
       ]
      }
     ], 
     "prompt_number": 42
    }, 
    {
     "cell_type": "code", 
     "collapsed": false, 
     "input": [
      "arr2d[0,2]"
     ], 
     "language": "python", 
     "outputs": [
      {
       "output_type": "pyout", 
       "prompt_number": 43, 
       "text": [
        "3"
       ]
      }
     ], 
     "prompt_number": 43
    }, 
    {
     "cell_type": "code", 
     "collapsed": false, 
     "input": [
      "arr3d = np.array([[[1,2,3,],[4,5,6]],[[7,8,9],[10,11,12]]])", 
      "arr3d"
     ], 
     "language": "python", 
     "outputs": [
      {
       "output_type": "pyout", 
       "prompt_number": 55, 
       "text": [
        "array([[[ 1,  2,  3],", 
        "        [ 4,  5,  6]],", 
        "", 
        "       [[ 7,  8,  9],", 
        "        [10, 11, 12]]])"
       ]
      }
     ], 
     "prompt_number": 55
    }, 
    {
     "cell_type": "code", 
     "collapsed": false, 
     "input": [
      "arr3d[0]"
     ], 
     "language": "python", 
     "outputs": [
      {
       "output_type": "pyout", 
       "prompt_number": 56, 
       "text": [
        "array([[1, 2, 3],", 
        "       [4, 5, 6]])"
       ]
      }
     ], 
     "prompt_number": 56
    }, 
    {
     "cell_type": "code", 
     "collapsed": false, 
     "input": [
      "old_values = arr3d[0].copy()", 
      "arr3d[0] = 42", 
      "arr3d"
     ], 
     "language": "python", 
     "outputs": [
      {
       "output_type": "pyout", 
       "prompt_number": 57, 
       "text": [
        "array([[[42, 42, 42],", 
        "        [42, 42, 42]],", 
        "", 
        "       [[ 7,  8,  9],", 
        "        [10, 11, 12]]])"
       ]
      }
     ], 
     "prompt_number": 57
    }, 
    {
     "cell_type": "code", 
     "collapsed": false, 
     "input": [
      "arr3d[0] = old_values", 
      "arr3d"
     ], 
     "language": "python", 
     "outputs": [
      {
       "output_type": "pyout", 
       "prompt_number": 59, 
       "text": [
        "array([[[ 1,  2,  3],", 
        "        [ 4,  5,  6]],", 
        "", 
        "       [[ 7,  8,  9],", 
        "        [10, 11, 12]]])"
       ]
      }
     ], 
     "prompt_number": 59
    }, 
    {
     "cell_type": "code", 
     "collapsed": false, 
     "input": [
      "arr3d[1,0]"
     ], 
     "language": "python", 
     "outputs": [
      {
       "output_type": "pyout", 
       "prompt_number": 61, 
       "text": [
        "array([7, 8, 9])"
       ]
      }
     ], 
     "prompt_number": 61
    }, 
    {
     "cell_type": "code", 
     "collapsed": false, 
     "input": [
      "arr[1:6]"
     ], 
     "language": "python", 
     "outputs": [
      {
       "output_type": "pyout", 
       "prompt_number": 62, 
       "text": [
        "array([ 1,  2,  3,  4, 64])"
       ]
      }
     ], 
     "prompt_number": 62
    }, 
    {
     "cell_type": "code", 
     "collapsed": false, 
     "input": [
      "arr2d"
     ], 
     "language": "python", 
     "outputs": [
      {
       "output_type": "pyout", 
       "prompt_number": 63, 
       "text": [
        "array([[1, 2, 3],", 
        "       [4, 5, 6],", 
        "       [7, 8, 9]])"
       ]
      }
     ], 
     "prompt_number": 63
    }, 
    {
     "cell_type": "code", 
     "collapsed": false, 
     "input": [
      "arr2d[:2]"
     ], 
     "language": "python", 
     "outputs": [
      {
       "output_type": "pyout", 
       "prompt_number": 64, 
       "text": [
        "array([[1, 2, 3],", 
        "       [4, 5, 6]])"
       ]
      }
     ], 
     "prompt_number": 64
    }, 
    {
     "cell_type": "code", 
     "collapsed": false, 
     "input": [
      "arr2d[:2,1:]"
     ], 
     "language": "python", 
     "outputs": [
      {
       "output_type": "pyout", 
       "prompt_number": 65, 
       "text": [
        "array([[2, 3],", 
        "       [5, 6]])"
       ]
      }
     ], 
     "prompt_number": 65
    }, 
    {
     "cell_type": "code", 
     "collapsed": false, 
     "input": [
      "arr2d[1,:2]"
     ], 
     "language": "python", 
     "outputs": [
      {
       "output_type": "pyout", 
       "prompt_number": 66, 
       "text": [
        "array([4, 5])"
       ]
      }
     ], 
     "prompt_number": 66
    }, 
    {
     "cell_type": "code", 
     "collapsed": false, 
     "input": [
      "arr2d[2,:1]"
     ], 
     "language": "python", 
     "outputs": [
      {
       "output_type": "pyout", 
       "prompt_number": 67, 
       "text": [
        "array([7])"
       ]
      }
     ], 
     "prompt_number": 67
    }, 
    {
     "cell_type": "code", 
     "collapsed": false, 
     "input": [
      "arr2d[:,:1]"
     ], 
     "language": "python", 
     "outputs": [
      {
       "output_type": "pyout", 
       "prompt_number": 68, 
       "text": [
        "array([[1],", 
        "       [4],", 
        "       [7]])"
       ]
      }
     ], 
     "prompt_number": 68
    }, 
    {
     "cell_type": "code", 
     "collapsed": true, 
     "input": [
      "arr2d[:2,:1] = 0"
     ], 
     "language": "python", 
     "outputs": [], 
     "prompt_number": 69
    }, 
    {
     "cell_type": "code", 
     "collapsed": false, 
     "input": [
      "names = np.array(['Bob','Joe','Will','Bob','Will','Joe','Joe'])", 
      "data = randn(7,4)", 
      "names"
     ], 
     "language": "python", 
     "outputs": [
      {
       "output_type": "pyout", 
       "prompt_number": 70, 
       "text": [
        "array([&apos;Bob&apos;, &apos;Joe&apos;, &apos;Will&apos;, &apos;Bob&apos;, &apos;Will&apos;, &apos;Joe&apos;, &apos;Joe&apos;], ", 
        "      dtype=&apos;|S4&apos;)"
       ]
      }
     ], 
     "prompt_number": 70
    }, 
    {
     "cell_type": "code", 
     "collapsed": false, 
     "input": [
      "data"
     ], 
     "language": "python", 
     "outputs": [
      {
       "output_type": "pyout", 
       "prompt_number": 71, 
       "text": [
        "array([[ 1.1471851 , -0.87730198, -0.95631814, -0.30751177],", 
        "       [-0.7524616 , -0.07428185,  1.49411943,  0.75945668],", 
        "       [ 0.04427011,  0.0351504 , -0.08371957, -0.1948029 ],", 
        "       [-0.17198593, -0.91490601,  0.88389806, -0.19546003],", 
        "       [ 0.36797057, -0.28948935,  1.15082806,  0.60111094],", 
        "       [-0.83987095, -0.04759844,  0.66615881, -1.24299349],", 
        "       [-0.09578789,  1.21389805, -0.86998771, -0.06022803]])"
       ]
      }
     ], 
     "prompt_number": 71
    }, 
    {
     "cell_type": "code", 
     "collapsed": false, 
     "input": [
      "names == 'Bob'"
     ], 
     "language": "python", 
     "outputs": [
      {
       "output_type": "pyout", 
       "prompt_number": 72, 
       "text": [
        "array([ True, False, False,  True, False, False, False], dtype=bool)"
       ]
      }
     ], 
     "prompt_number": 72
    }, 
    {
     "cell_type": "code", 
     "collapsed": false, 
     "input": [
      "data[names == 'Bob']"
     ], 
     "language": "python", 
     "outputs": [
      {
       "output_type": "pyout", 
       "prompt_number": 73, 
       "text": [
        "array([[ 1.1471851 , -0.87730198, -0.95631814, -0.30751177],", 
        "       [-0.17198593, -0.91490601,  0.88389806, -0.19546003]])"
       ]
      }
     ], 
     "prompt_number": 73
    }, 
    {
     "cell_type": "code", 
     "collapsed": false, 
     "input": [
      "data[names == 'Bob',2:]"
     ], 
     "language": "python", 
     "outputs": [
      {
       "output_type": "pyout", 
       "prompt_number": 75, 
       "text": [
        "array([[-0.95631814, -0.30751177],", 
        "       [ 0.88389806, -0.19546003]])"
       ]
      }
     ], 
     "prompt_number": 75
    }, 
    {
     "cell_type": "code", 
     "collapsed": false, 
     "input": [
      "data[names == 'Bob',3]"
     ], 
     "language": "python", 
     "outputs": [
      {
       "output_type": "pyout", 
       "prompt_number": 76, 
       "text": [
        "array([-0.30751177, -0.19546003])"
       ]
      }
     ], 
     "prompt_number": 76
    }, 
    {
     "cell_type": "code", 
     "collapsed": false, 
     "input": [
      "names !='Bob'"
     ], 
     "language": "python", 
     "outputs": [
      {
       "output_type": "pyout", 
       "prompt_number": 77, 
       "text": [
        "array([False,  True,  True, False,  True,  True,  True], dtype=bool)"
       ]
      }
     ], 
     "prompt_number": 77
    }, 
    {
     "cell_type": "code", 
     "collapsed": false, 
     "input": [
      "data[-(names == 'Bob')]"
     ], 
     "language": "python", 
     "outputs": [
      {
       "output_type": "pyout", 
       "prompt_number": 78, 
       "text": [
        "array([[-0.7524616 , -0.07428185,  1.49411943,  0.75945668],", 
        "       [ 0.04427011,  0.0351504 , -0.08371957, -0.1948029 ],", 
        "       [ 0.36797057, -0.28948935,  1.15082806,  0.60111094],", 
        "       [-0.83987095, -0.04759844,  0.66615881, -1.24299349],", 
        "       [-0.09578789,  1.21389805, -0.86998771, -0.06022803]])"
       ]
      }
     ], 
     "prompt_number": 78
    }, 
    {
     "cell_type": "code", 
     "collapsed": false, 
     "input": [
      "mask = (names == 'Bob') | (names == 'Will')", 
      "mask"
     ], 
     "language": "python", 
     "outputs": [
      {
       "output_type": "pyout", 
       "prompt_number": 80, 
       "text": [
        "array([ True, False,  True,  True,  True, False, False], dtype=bool)"
       ]
      }
     ], 
     "prompt_number": 80
    }, 
    {
     "cell_type": "code", 
     "collapsed": false, 
     "input": [
      "data[mask]"
     ], 
     "language": "python", 
     "outputs": [
      {
       "output_type": "pyout", 
       "prompt_number": 81, 
       "text": [
        "array([[ 1.1471851 , -0.87730198, -0.95631814, -0.30751177],", 
        "       [ 0.04427011,  0.0351504 , -0.08371957, -0.1948029 ],", 
        "       [-0.17198593, -0.91490601,  0.88389806, -0.19546003],", 
        "       [ 0.36797057, -0.28948935,  1.15082806,  0.60111094]])"
       ]
      }
     ], 
     "prompt_number": 81
    }, 
    {
     "cell_type": "code", 
     "collapsed": false, 
     "input": [
      "data[data<0]=0", 
      "data"
     ], 
     "language": "python", 
     "outputs": [
      {
       "output_type": "pyout", 
       "prompt_number": 82, 
       "text": [
        "array([[ 1.1471851 ,  0.        ,  0.        ,  0.        ],", 
        "       [ 0.        ,  0.        ,  1.49411943,  0.75945668],", 
        "       [ 0.04427011,  0.0351504 ,  0.        ,  0.        ],", 
        "       [ 0.        ,  0.        ,  0.88389806,  0.        ],", 
        "       [ 0.36797057,  0.        ,  1.15082806,  0.60111094],", 
        "       [ 0.        ,  0.        ,  0.66615881,  0.        ],", 
        "       [ 0.        ,  1.21389805,  0.        ,  0.        ]])"
       ]
      }
     ], 
     "prompt_number": 82
    }, 
    {
     "cell_type": "code", 
     "collapsed": false, 
     "input": [
      "data[names != 'Joe'] = 7", 
      "data"
     ], 
     "language": "python", 
     "outputs": [
      {
       "output_type": "pyout", 
       "prompt_number": 83, 
       "text": [
        "array([[ 7.        ,  7.        ,  7.        ,  7.        ],", 
        "       [ 0.        ,  0.        ,  1.49411943,  0.75945668],", 
        "       [ 7.        ,  7.        ,  7.        ,  7.        ],", 
        "       [ 7.        ,  7.        ,  7.        ,  7.        ],", 
        "       [ 7.        ,  7.        ,  7.        ,  7.        ],", 
        "       [ 0.        ,  0.        ,  0.66615881,  0.        ],", 
        "       [ 0.        ,  1.21389805,  0.        ,  0.        ]])"
       ]
      }
     ], 
     "prompt_number": 83
    }, 
    {
     "cell_type": "code", 
     "collapsed": false, 
     "input": [
      "arr = np.empty((8,4))", 
      "for i in range(8):", 
      "    arr[i] = i", 
      "arr"
     ], 
     "language": "python", 
     "outputs": [
      {
       "output_type": "pyout", 
       "prompt_number": 84, 
       "text": [
        "array([[ 0.,  0.,  0.,  0.],", 
        "       [ 1.,  1.,  1.,  1.],", 
        "       [ 2.,  2.,  2.,  2.],", 
        "       [ 3.,  3.,  3.,  3.],", 
        "       [ 4.,  4.,  4.,  4.],", 
        "       [ 5.,  5.,  5.,  5.],", 
        "       [ 6.,  6.,  6.,  6.],", 
        "       [ 7.,  7.,  7.,  7.]])"
       ]
      }
     ], 
     "prompt_number": 84
    }, 
    {
     "cell_type": "code", 
     "collapsed": false, 
     "input": [
      "arr[[4,3,0,6]]"
     ], 
     "language": "python", 
     "outputs": [
      {
       "output_type": "pyout", 
       "prompt_number": 85, 
       "text": [
        "array([[ 4.,  4.,  4.,  4.],", 
        "       [ 3.,  3.,  3.,  3.],", 
        "       [ 0.,  0.,  0.,  0.],", 
        "       [ 6.,  6.,  6.,  6.]])"
       ]
      }
     ], 
     "prompt_number": 85
    }, 
    {
     "cell_type": "code", 
     "collapsed": false, 
     "input": [
      "arr[[-3,-5,-7]]"
     ], 
     "language": "python", 
     "outputs": [
      {
       "output_type": "pyout", 
       "prompt_number": 86, 
       "text": [
        "array([[ 5.,  5.,  5.,  5.],", 
        "       [ 3.,  3.,  3.,  3.],", 
        "       [ 1.,  1.,  1.,  1.]])"
       ]
      }
     ], 
     "prompt_number": 86
    }, 
    {
     "cell_type": "code", 
     "collapsed": false, 
     "input": [
      "arr = np.arange(32).reshape((8,4))", 
      "arr"
     ], 
     "language": "python", 
     "outputs": [
      {
       "output_type": "pyout", 
       "prompt_number": 87, 
       "text": [
        "array([[ 0,  1,  2,  3],", 
        "       [ 4,  5,  6,  7],", 
        "       [ 8,  9, 10, 11],", 
        "       [12, 13, 14, 15],", 
        "       [16, 17, 18, 19],", 
        "       [20, 21, 22, 23],", 
        "       [24, 25, 26, 27],", 
        "       [28, 29, 30, 31]])"
       ]
      }
     ], 
     "prompt_number": 87
    }, 
    {
     "cell_type": "code", 
     "collapsed": false, 
     "input": [
      "arr[[1,5,7,2],[0,3,1,2]]"
     ], 
     "language": "python", 
     "outputs": [
      {
       "output_type": "pyout", 
       "prompt_number": 88, 
       "text": [
        "array([ 4, 23, 29, 10])"
       ]
      }
     ], 
     "prompt_number": 88
    }, 
    {
     "cell_type": "code", 
     "collapsed": false, 
     "input": [
      "arr[[1,2,7,2]][:,[0,3,1,2]]"
     ], 
     "language": "python", 
     "outputs": [
      {
       "output_type": "pyout", 
       "prompt_number": 89, 
       "text": [
        "array([[ 4,  7,  5,  6],", 
        "       [ 8, 11,  9, 10],", 
        "       [28, 31, 29, 30],", 
        "       [ 8, 11,  9, 10]])"
       ]
      }
     ], 
     "prompt_number": 89
    }, 
    {
     "cell_type": "code", 
     "collapsed": false, 
     "input": [
      "arr[np.ix_([1,5,7,2],[0,3,1,2])]"
     ], 
     "language": "python", 
     "outputs": [
      {
       "output_type": "pyout", 
       "prompt_number": 90, 
       "text": [
        "array([[ 4,  7,  5,  6],", 
        "       [20, 23, 21, 22],", 
        "       [28, 31, 29, 30],", 
        "       [ 8, 11,  9, 10]])"
       ]
      }
     ], 
     "prompt_number": 90
    }, 
    {
     "cell_type": "code", 
     "collapsed": false, 
     "input": [
      "arr = np.arange(15).reshape((3,5))", 
      "arr"
     ], 
     "language": "python", 
     "outputs": [
      {
       "output_type": "pyout", 
       "prompt_number": 93, 
       "text": [
        "array([[ 0,  1,  2,  3,  4],", 
        "       [ 5,  6,  7,  8,  9],", 
        "       [10, 11, 12, 13, 14]])"
       ]
      }
     ], 
     "prompt_number": 93
    }, 
    {
     "cell_type": "code", 
     "collapsed": false, 
     "input": [
      "arr.T"
     ], 
     "language": "python", 
     "outputs": [
      {
       "output_type": "pyout", 
       "prompt_number": 94, 
       "text": [
        "array([[ 0,  5, 10],", 
        "       [ 1,  6, 11],", 
        "       [ 2,  7, 12],", 
        "       [ 3,  8, 13],", 
        "       [ 4,  9, 14]])"
       ]
      }
     ], 
     "prompt_number": 94
    }, 
    {
     "cell_type": "code", 
     "collapsed": false, 
     "input": [
      "arr = np.random.randn(6,3)", 
      "np.dot(arr.T,arr)"
     ], 
     "language": "python", 
     "outputs": [
      {
       "output_type": "pyout", 
       "prompt_number": 95, 
       "text": [
        "array([[ 6.27034309,  1.24294136,  2.69069323],", 
        "       [ 1.24294136,  5.29361476, -1.17957346],", 
        "       [ 2.69069323, -1.17957346,  6.08240976]])"
       ]
      }
     ], 
     "prompt_number": 95
    }, 
    {
     "cell_type": "code", 
     "collapsed": false, 
     "input": [
      "arr = np.arange(16).reshape((2,2,4))", 
      "arr"
     ], 
     "language": "python", 
     "outputs": [
      {
       "output_type": "pyout", 
       "prompt_number": 96, 
       "text": [
        "array([[[ 0,  1,  2,  3],", 
        "        [ 4,  5,  6,  7]],", 
        "", 
        "       [[ 8,  9, 10, 11],", 
        "        [12, 13, 14, 15]]])"
       ]
      }
     ], 
     "prompt_number": 96
    }, 
    {
     "cell_type": "code", 
     "collapsed": false, 
     "input": [
      "arr.transpose((1,0,2))"
     ], 
     "language": "python", 
     "outputs": [
      {
       "output_type": "pyout", 
       "prompt_number": 97, 
       "text": [
        "array([[[ 0,  1,  2,  3],", 
        "        [ 8,  9, 10, 11]],", 
        "", 
        "       [[ 4,  5,  6,  7],", 
        "        [12, 13, 14, 15]]])"
       ]
      }
     ], 
     "prompt_number": 97
    }, 
    {
     "cell_type": "code", 
     "collapsed": false, 
     "input": [
      "arr"
     ], 
     "language": "python", 
     "outputs": [
      {
       "output_type": "pyout", 
       "prompt_number": 98, 
       "text": [
        "array([[[ 0,  1,  2,  3],", 
        "        [ 4,  5,  6,  7]],", 
        "", 
        "       [[ 8,  9, 10, 11],", 
        "        [12, 13, 14, 15]]])"
       ]
      }
     ], 
     "prompt_number": 98
    }, 
    {
     "cell_type": "code", 
     "collapsed": false, 
     "input": [
      "arr.swapaxes(1,2)"
     ], 
     "language": "python", 
     "outputs": [
      {
       "output_type": "pyout", 
       "prompt_number": 99, 
       "text": [
        "array([[[ 0,  4],", 
        "        [ 1,  5],", 
        "        [ 2,  6],", 
        "        [ 3,  7]],", 
        "", 
        "       [[ 8, 12],", 
        "        [ 9, 13],", 
        "        [10, 14],", 
        "        [11, 15]]])"
       ]
      }
     ], 
     "prompt_number": 99
    }, 
    {
     "cell_type": "code", 
     "collapsed": false, 
     "input": [
      "arr = np.arange(10)", 
      "np.sqrt(arr)"
     ], 
     "language": "python", 
     "outputs": [
      {
       "output_type": "pyout", 
       "prompt_number": 100, 
       "text": [
        "array([ 0.        ,  1.        ,  1.41421356,  1.73205081,  2.        ,", 
        "        2.23606798,  2.44948974,  2.64575131,  2.82842712,  3.        ])"
       ]
      }
     ], 
     "prompt_number": 100
    }, 
    {
     "cell_type": "code", 
     "collapsed": false, 
     "input": [
      "np.exp(arr)"
     ], 
     "language": "python", 
     "outputs": [
      {
       "output_type": "pyout", 
       "prompt_number": 101, 
       "text": [
        "array([  1.00000000e+00,   2.71828183e+00,   7.38905610e+00,", 
        "         2.00855369e+01,   5.45981500e+01,   1.48413159e+02,", 
        "         4.03428793e+02,   1.09663316e+03,   2.98095799e+03,", 
        "         8.10308393e+03])"
       ]
      }
     ], 
     "prompt_number": 101
    }, 
    {
     "cell_type": "code", 
     "collapsed": false, 
     "input": [
      "x = randn(8)", 
      "y = randn(8)", 
      "x"
     ], 
     "language": "python", 
     "outputs": [
      {
       "output_type": "pyout", 
       "prompt_number": 103, 
       "text": [
        "array([-1.13690961,  1.0717726 ,  1.99493533,  1.69455147, -1.21995668,", 
        "       -0.13928927,  0.5286908 ,  1.79187729])"
       ]
      }
     ], 
     "prompt_number": 103
    }, 
    {
     "cell_type": "code", 
     "collapsed": false, 
     "input": [
      "y"
     ], 
     "language": "python", 
     "outputs": [
      {
       "output_type": "pyout", 
       "prompt_number": 104, 
       "text": [
        "array([ 0.2107393 , -0.15816892, -0.22087028, -1.09255507, -0.13633466,", 
        "        1.38315409,  0.04987723, -0.8885282 ])"
       ]
      }
     ], 
     "prompt_number": 104
    }, 
    {
     "cell_type": "code", 
     "collapsed": false, 
     "input": [
      "np.maximum(x,y)"
     ], 
     "language": "python", 
     "outputs": [
      {
       "output_type": "pyout", 
       "prompt_number": 105, 
       "text": [
        "array([ 0.2107393 ,  1.0717726 ,  1.99493533,  1.69455147, -0.13633466,", 
        "        1.38315409,  0.5286908 ,  1.79187729])"
       ]
      }
     ], 
     "prompt_number": 105
    }, 
    {
     "cell_type": "code", 
     "collapsed": false, 
     "input": [
      "arr = randn(7) * 5", 
      "np.modf(arr)"
     ], 
     "language": "python", 
     "outputs": [
      {
       "output_type": "pyout", 
       "prompt_number": 106, 
       "text": [
        "(array([-0.75170901, -0.83229452,  0.6065753 , -0.67879955, -0.25203659,", 
        "        0.86430825, -0.06175281]),", 
        " array([-1., -5.,  2., -1., -4.,  4., -2.]))"
       ]
      }
     ], 
     "prompt_number": 106
    }, 
    {
     "cell_type": "code", 
     "collapsed": false, 
     "input": [
      "points = np.arange(-5,5,0.01)", 
      "xs,ys = np.meshgrid(points,points)", 
      "ys"
     ], 
     "language": "python", 
     "outputs": [
      {
       "output_type": "pyout", 
       "prompt_number": 107, 
       "text": [
        "array([[-5.  , -5.  , -5.  , ..., -5.  , -5.  , -5.  ],", 
        "       [-4.99, -4.99, -4.99, ..., -4.99, -4.99, -4.99],", 
        "       [-4.98, -4.98, -4.98, ..., -4.98, -4.98, -4.98],", 
        "       ..., ", 
        "       [ 4.97,  4.97,  4.97, ...,  4.97,  4.97,  4.97],", 
        "       [ 4.98,  4.98,  4.98, ...,  4.98,  4.98,  4.98],", 
        "       [ 4.99,  4.99,  4.99, ...,  4.99,  4.99,  4.99]])"
       ]
      }
     ], 
     "prompt_number": 107
    }, 
    {
     "cell_type": "code", 
     "collapsed": false, 
     "input": [
      "import matplotlib.pyplot as plt", 
      "z = np.sqrt(xs ** 2 + ys ** 2)", 
      "z"
     ], 
     "language": "python", 
     "outputs": [
      {
       "output_type": "pyout", 
       "prompt_number": 109, 
       "text": [
        "array([[ 7.07106781,  7.06400028,  7.05693985, ...,  7.04988652,", 
        "         7.05693985,  7.06400028],", 
        "       [ 7.06400028,  7.05692568,  7.04985815, ...,  7.04279774,", 
        "         7.04985815,  7.05692568],", 
        "       [ 7.05693985,  7.04985815,  7.04278354, ...,  7.03571603,", 
        "         7.04278354,  7.04985815],", 
        "       ..., ", 
        "       [ 7.04988652,  7.04279774,  7.03571603, ...,  7.0286414 ,", 
        "         7.03571603,  7.04279774],", 
        "       [ 7.05693985,  7.04985815,  7.04278354, ...,  7.03571603,", 
        "         7.04278354,  7.04985815],", 
        "       [ 7.06400028,  7.05692568,  7.04985815, ...,  7.04279774,", 
        "         7.04985815,  7.05692568]])"
       ]
      }
     ], 
     "prompt_number": 109
    }, 
    {
     "cell_type": "code", 
     "collapsed": false, 
     "input": [
      "plt.imshow(z, cmap = plt.cm.gray);plt.colorbar()", 
      "plt.title(\"Image plot of $\\sqrt{x^2 +y^2}$ for a grid of values\")"
     ], 
     "language": "python", 
     "outputs": [
      {
       "output_type": "pyout", 
       "prompt_number": 116, 
       "text": [
        "&lt;matplotlib.text.Text at 0xa4374f0&gt;"
       ]
      }, 
      {
       "output_type": "display_data", 
       "png": "[encoded data removed]"
      }
     ], 
     "prompt_number": 116
    }, 
    {
     "cell_type": "code", 
     "collapsed": false, 
     "input": [
      "xarr = np.array([1.1,1.2,1.3,1.4,1.5])", 
      "yarr = np.array([2.1,2.2,2.3,2.4,2.5])", 
      "cond = np.array([True,False,True,True,False])", 
      "result=[(x if c else y)     for x,y,c in zip(xarr,yarr,cond)]", 
      "result"
     ], 
     "language": "python", 
     "outputs": [
      {
       "output_type": "pyout", 
       "prompt_number": 123, 
       "text": [
        "[1.1000000000000001, 2.2000000000000002, 1.3, 1.3999999999999999, 2.5]"
       ]
      }
     ], 
     "prompt_number": 123
    }, 
    {
     "cell_type": "code", 
     "collapsed": false, 
     "input": [
      "arr = randn(4,4)", 
      "arr"
     ], 
     "language": "python", 
     "outputs": [
      {
       "output_type": "pyout", 
       "prompt_number": 125, 
       "text": [
        "array([[-0.11832941,  0.96692111, -0.02356624,  0.40970366],", 
        "       [ 0.4230978 ,  1.39878095,  0.94663493, -1.61847698],", 
        "       [-1.38793778, -2.64338624,  0.18393877,  0.03832043],", 
        "       [-1.88037626,  0.41927219, -1.40412259, -1.22989025]])"
       ]
      }
     ], 
     "prompt_number": 125
    }, 
    {
     "cell_type": "code", 
     "collapsed": false, 
     "input": [
      "np.where(arr > 0,2,-2)"
     ], 
     "language": "python", 
     "outputs": [
      {
       "output_type": "pyout", 
       "prompt_number": 126, 
       "text": [
        "array([[-2,  2, -2,  2],", 
        "       [ 2,  2,  2, -2],", 
        "       [-2, -2,  2,  2],", 
        "       [-2,  2, -2, -2]])"
       ]
      }
     ], 
     "prompt_number": 126
    }, 
    {
     "cell_type": "code", 
     "collapsed": false, 
     "input": [
      "np.where(arr >0 ,2,arr)"
     ], 
     "language": "python", 
     "outputs": [
      {
       "output_type": "pyout", 
       "prompt_number": 127, 
       "text": [
        "array([[-0.11832941,  2.        , -0.02356624,  2.        ],", 
        "       [ 2.        ,  2.        ,  2.        , -1.61847698],", 
        "       [-1.38793778, -2.64338624,  2.        ,  2.        ],", 
        "       [-1.88037626,  2.        , -1.40412259, -1.22989025]])"
       ]
      }
     ], 
     "prompt_number": 127
    }, 
    {
     "cell_type": "code", 
     "collapsed": false, 
     "input": [
      "result = []", 
      "for i in range(n):", 
      "    if cond1[i] and cond2[i]:", 
      "        result.append(0)", 
      "    elif cond1[i]:", 
      "        result.append(1)", 
      "    elif cond2[i]:", 
      "        result.append(2)", 
      "    else:", 
      "        result.append(3)", 
      "np.where(cond1 & cond2,0,np.where(cond1,1,np.where(cond2,2,3)))"
     ], 
     "language": "python", 
     "outputs": [
      {
       "ename": "NameError", 
       "evalue": "name 'n' is not defined", 
       "output_type": "pyerr", 
       "traceback": [
        "<span class=\"ansired\">---------------------------------------------------------------------------</span>\n<span class=\"ansired\">NameError</span>                                 Traceback (most recent call last)", 
        "<span class=\"ansigreen\">D:\\&lt;ipython-input-128-59b2f4ef2901&gt;</span> in <span class=\"ansicyan\">&lt;module&gt;</span><span class=\"ansiblue\">()</span>\n<span class=\"ansigreen\">      1</span> result <span class=\"ansiyellow\">=</span> <span class=\"ansiyellow\">[</span><span class=\"ansiyellow\">]</span><span class=\"ansiyellow\"></span>\n<span class=\"ansigreen\">----&gt; 2</span><span class=\"ansiyellow\"> </span><span class=\"ansigreen\">for</span> i <span class=\"ansigreen\">in</span> range<span class=\"ansiyellow\">(</span>n<span class=\"ansiyellow\">)</span><span class=\"ansiyellow\">:</span><span class=\"ansiyellow\"></span>\n<span class=\"ansigreen\">      3</span>     <span class=\"ansigreen\">if</span> cond1<span class=\"ansiyellow\">[</span>i<span class=\"ansiyellow\">]</span> <span class=\"ansigreen\">and</span> cond2<span class=\"ansiyellow\">[</span>i<span class=\"ansiyellow\">]</span><span class=\"ansiyellow\">:</span><span class=\"ansiyellow\"></span>\n<span class=\"ansigreen\">      4</span>         result<span class=\"ansiyellow\">.</span>append<span class=\"ansiyellow\">(</span><span class=\"ansicyan\">0</span><span class=\"ansiyellow\">)</span><span class=\"ansiyellow\"></span>\n<span class=\"ansigreen\">      5</span>     <span class=\"ansigreen\">elif</span> cond1<span class=\"ansiyellow\">[</span>i<span class=\"ansiyellow\">]</span><span class=\"ansiyellow\">:</span><span class=\"ansiyellow\"></span>\n", 
        "<span class=\"ansired\">NameError</span>: name &apos;n&apos; is not defined"
       ]
      }
     ], 
     "prompt_number": 128
    }, 
    {
     "cell_type": "code", 
     "collapsed": false, 
     "input": [
      "arr = np.random.randn(5,4)", 
      "arr.mean()"
     ], 
     "language": "python", 
     "outputs": [
      {
       "output_type": "pyout", 
       "prompt_number": 129, 
       "text": [
        "-0.18790273754592984"
       ]
      }
     ], 
     "prompt_number": 129
    }, 
    {
     "cell_type": "code", 
     "collapsed": false, 
     "input": [
      "np.mean(arr)"
     ], 
     "language": "python", 
     "outputs": [
      {
       "output_type": "pyout", 
       "prompt_number": 130, 
       "text": [
        "-0.18790273754592984"
       ]
      }
     ], 
     "prompt_number": 130
    }, 
    {
     "cell_type": "code", 
     "collapsed": false, 
     "input": [
      "arr.sum()"
     ], 
     "language": "python", 
     "outputs": [
      {
       "output_type": "pyout", 
       "prompt_number": 131, 
       "text": [
        "-3.7580547509185971"
       ]
      }
     ], 
     "prompt_number": 131
    }, 
    {
     "cell_type": "code", 
     "collapsed": false, 
     "input": [
      "arr.mean(axis=1)"
     ], 
     "language": "python", 
     "outputs": [
      {
       "output_type": "pyout", 
       "prompt_number": 132, 
       "text": [
        "array([-0.62462649,  0.18849324, -0.29541399, -0.0468208 , -0.16114564])"
       ]
      }
     ], 
     "prompt_number": 132
    }, 
    {
     "cell_type": "code", 
     "collapsed": false, 
     "input": [
      "arr.sum(0)"
     ], 
     "language": "python", 
     "outputs": [
      {
       "output_type": "pyout", 
       "prompt_number": 133, 
       "text": [
        "array([ 0.23289132, -2.03308986, -1.60308396, -0.35477225])"
       ]
      }
     ], 
     "prompt_number": 133
    }, 
    {
     "cell_type": "code", 
     "collapsed": false, 
     "input": [
      "arr = np.array([[0,1,2],[3,4,5],[6,7,8]])", 
      "arr.cumsum(0)"
     ], 
     "language": "python", 
     "outputs": [
      {
       "output_type": "pyout", 
       "prompt_number": 136, 
       "text": [
        "array([[ 0,  1,  2],", 
        "       [ 3,  5,  7],", 
        "       [ 9, 12, 15]])"
       ]
      }
     ], 
     "prompt_number": 136
    }, 
    {
     "cell_type": "code", 
     "collapsed": false, 
     "input": [
      "arr.cumprod(1)"
     ], 
     "language": "python", 
     "outputs": [
      {
       "output_type": "pyout", 
       "prompt_number": 138, 
       "text": [
        "array([[  0,   0,   0],", 
        "       [  3,  12,  60],", 
        "       [  6,  42, 336]])"
       ]
      }
     ], 
     "prompt_number": 138
    }, 
    {
     "cell_type": "code", 
     "collapsed": false, 
     "input": [
      "arr = randn(100)", 
      "(arr >0).sum()"
     ], 
     "language": "python", 
     "outputs": [
      {
       "output_type": "pyout", 
       "prompt_number": 140, 
       "text": [
        "50"
       ]
      }
     ], 
     "prompt_number": 140
    }, 
    {
     "cell_type": "code", 
     "collapsed": false, 
     "input": [
      "bools = np.array([False,False,True,False])", 
      "bools.any()"
     ], 
     "language": "python", 
     "outputs": [
      {
       "output_type": "pyout", 
       "prompt_number": 141, 
       "text": [
        "True"
       ]
      }
     ], 
     "prompt_number": 141
    }, 
    {
     "cell_type": "code", 
     "collapsed": false, 
     "input": [
      "bools.all()"
     ], 
     "language": "python", 
     "outputs": [
      {
       "output_type": "pyout", 
       "prompt_number": 142, 
       "text": [
        "False"
       ]
      }
     ], 
     "prompt_number": 142
    }, 
    {
     "cell_type": "code", 
     "collapsed": false, 
     "input": [
      "arr = randn(8)", 
      "arr"
     ], 
     "language": "python", 
     "outputs": [
      {
       "output_type": "pyout", 
       "prompt_number": 143, 
       "text": [
        "array([-1.25742005,  0.73942345, -1.17614843,  0.04622731, -0.83771485,", 
        "       -1.50509542, -1.06296064, -0.39978928])"
       ]
      }
     ], 
     "prompt_number": 143
    }, 
    {
     "cell_type": "code", 
     "collapsed": false, 
     "input": [
      "arr.sort()", 
      "arr"
     ], 
     "language": "python", 
     "outputs": [
      {
       "output_type": "pyout", 
       "prompt_number": 144, 
       "text": [
        "array([-1.50509542, -1.25742005, -1.17614843, -1.06296064, -0.83771485,", 
        "       -0.39978928,  0.04622731,  0.73942345])"
       ]
      }
     ], 
     "prompt_number": 144
    }, 
    {
     "cell_type": "code", 
     "collapsed": false, 
     "input": [
      "arr = randn(5,3)", 
      "arr"
     ], 
     "language": "python", 
     "outputs": [
      {
       "output_type": "pyout", 
       "prompt_number": 146, 
       "text": [
        "array([[ 0.56126581, -0.10622243,  1.05369274],", 
        "       [ 0.75572727,  0.20817153, -1.33803574],", 
        "       [-0.23346148, -0.11792687, -1.40480663],", 
        "       [ 0.03769439, -0.11478237, -0.21797596],", 
        "       [ 0.25012348,  1.05305447, -0.71678158]])"
       ]
      }
     ], 
     "prompt_number": 146
    }, 
    {
     "cell_type": "code", 
     "collapsed": false, 
     "input": [
      "arr.sort(1)", 
      "arr"
     ], 
     "language": "python", 
     "outputs": [
      {
       "output_type": "pyout", 
       "prompt_number": 148, 
       "text": [
        "array([[-0.10622243,  0.56126581,  1.05369274],", 
        "       [-1.33803574,  0.20817153,  0.75572727],", 
        "       [-1.40480663, -0.23346148, -0.11792687],", 
        "       [-0.21797596, -0.11478237,  0.03769439],", 
        "       [-0.71678158,  0.25012348,  1.05305447]])"
       ]
      }
     ], 
     "prompt_number": 148
    }, 
    {
     "cell_type": "code", 
     "collapsed": false, 
     "input": [
      "large_arr = randn(1000)", 
      "large_arr.sort()", 
      "large_arr[int(0.05*len(large_arr))]"
     ], 
     "language": "python", 
     "outputs": [
      {
       "output_type": "pyout", 
       "prompt_number": 150, 
       "text": [
        "-1.6524913551818847"
       ]
      }
     ], 
     "prompt_number": 150
    }, 
    {
     "cell_type": "code", 
     "collapsed": false, 
     "input": [
      "names = np.array(['Bob','Joe','Will','Bob','Will','Joe','Joe'])", 
      "np.unique(names)"
     ], 
     "language": "python", 
     "outputs": [
      {
       "output_type": "pyout", 
       "prompt_number": 151, 
       "text": [
        "array([&apos;Bob&apos;, &apos;Joe&apos;, &apos;Will&apos;], ", 
        "      dtype=&apos;|S4&apos;)"
       ]
      }
     ], 
     "prompt_number": 151
    }, 
    {
     "cell_type": "code", 
     "collapsed": false, 
     "input": [
      "ints = np.array([3,3,3,2,2,1,1,4,4])", 
      "np.unique(ints)", 
      "array([1,2,3,4])", 
      "sorted(set(names))", 
      "['Bob','Joe','Will']", 
      "values = np.array([6,0,0,3,2,5,6])", 
      "np.in1d(values,[2,3,6])", 
      "array([True,False,False,True,True,False,True],dtype=bool)"
     ], 
     "language": "python", 
     "outputs": [
      {
       "output_type": "pyout", 
       "prompt_number": 152, 
       "text": [
        "array([ True, False, False,  True,  True, False,  True], dtype=bool)"
       ]
      }
     ], 
     "prompt_number": 152
    }, 
    {
     "cell_type": "code", 
     "collapsed": false, 
     "input": [
      "arr = np.arange(10)", 
      "np.save('some_array',arr)", 
      "np.load('some_array.npy')"
     ], 
     "language": "python", 
     "outputs": [
      {
       "output_type": "pyout", 
       "prompt_number": 154, 
       "text": [
        "array([0, 1, 2, 3, 4, 5, 6, 7, 8, 9])"
       ]
      }
     ], 
     "prompt_number": 154
    }, 
    {
     "cell_type": "code", 
     "collapsed": false, 
     "input": [
      "np.savez('array_archive.npz',a=arr,b=arr)", 
      "arch = np.load('array_archive.npz')", 
      "arch['b']"
     ], 
     "language": "python", 
     "outputs": [
      {
       "output_type": "pyout", 
       "prompt_number": 156, 
       "text": [
        "array([0, 1, 2, 3, 4, 5, 6, 7, 8, 9])"
       ]
      }
     ], 
     "prompt_number": 156
    }, 
    {
     "cell_type": "code", 
     "collapsed": false, 
     "input": [
      "x = np.array([[1.,2.,3.],[4.,5.,6.]])", 
      "y = np.array([[6.,23.],[-1,7],[8,9]])", 
      "x"
     ], 
     "language": "python", 
     "outputs": [
      {
       "output_type": "pyout", 
       "prompt_number": 158, 
       "text": [
        "array([[ 1.,  2.,  3.],", 
        "       [ 4.,  5.,  6.]])"
       ]
      }
     ], 
     "prompt_number": 158
    }, 
    {
     "cell_type": "code", 
     "collapsed": false, 
     "input": [
      "y"
     ], 
     "language": "python", 
     "outputs": [
      {
       "output_type": "pyout", 
       "prompt_number": 159, 
       "text": [
        "array([[  6.,  23.],", 
        "       [ -1.,   7.],", 
        "       [  8.,   9.]])"
       ]
      }
     ], 
     "prompt_number": 159
    }, 
    {
     "cell_type": "code", 
     "collapsed": false, 
     "input": [
      "x.dot(y)"
     ], 
     "language": "python", 
     "outputs": [
      {
       "output_type": "pyout", 
       "prompt_number": 160, 
       "text": [
        "array([[  28.,   64.],", 
        "       [  67.,  181.]])"
       ]
      }
     ], 
     "prompt_number": 160
    }, 
    {
     "cell_type": "code", 
     "collapsed": false, 
     "input": [
      "np.dot(x,np.ones(3))"
     ], 
     "language": "python", 
     "outputs": [
      {
       "output_type": "pyout", 
       "prompt_number": 161, 
       "text": [
        "array([  6.,  15.])"
       ]
      }
     ], 
     "prompt_number": 161
    }, 
    {
     "cell_type": "code", 
     "collapsed": false, 
     "input": [
      "from numpy.linalg import inv,qr", 
      "X = randn(5,5)", 
      "mat = X.T.dot(X)", 
      "inv(mat)"
     ], 
     "language": "python", 
     "outputs": [
      {
       "output_type": "pyout", 
       "prompt_number": 162, 
       "text": [
        "array([[  1579.84576564,   4451.92647305,   7268.60877023,   1273.31290426,", 
        "         -1764.69431248],", 
        "       [  4451.92647305,  12551.75720115,  20492.85835587,   3586.14540824,", 
        "         -4973.88259082],", 
        "       [  7268.60877023,  20492.85835587,  33462.61694072,   5853.2008762 ,", 
        "         -8120.24125703],", 
        "       [  1273.31290426,   3586.14540824,   5853.2008762 ,   1035.03118529,", 
        "         -1425.18171169],", 
        "       [ -1764.69431248,  -4973.88259082,  -8120.24125703,  -1425.18171169,", 
        "          1972.76961956]])"
       ]
      }
     ], 
     "prompt_number": 162
    }, 
    {
     "cell_type": "code", 
     "collapsed": false, 
     "input": [
      "mat.dot(inv(mat))"
     ], 
     "language": "python", 
     "outputs": [
      {
       "output_type": "pyout", 
       "prompt_number": 163, 
       "text": [
        "array([[  1.00000000e+00,   0.00000000e+00,  -6.82121026e-13,", 
        "         -2.27373675e-13,   0.00000000e+00],", 
        "       [  1.36424205e-12,   1.00000000e+00,   9.09494702e-12,", 
        "          1.59161573e-12,  -2.27373675e-12],", 
        "       [ -4.54747351e-13,  -1.13686838e-12,   1.00000000e+00,", 
        "         -6.82121026e-13,   1.02318154e-12],", 
        "       [  0.00000000e+00,  -1.81898940e-12,  -3.63797881e-12,", 
        "          1.00000000e+00,   9.09494702e-13],", 
        "       [  0.00000000e+00,   0.00000000e+00,  -7.27595761e-12,", 
        "          1.81898940e-12,   1.00000000e+00]])"
       ]
      }
     ], 
     "prompt_number": 163
    }, 
    {
     "cell_type": "code", 
     "collapsed": false, 
     "input": [
      "q, r = qr(mat)", 
      "r"
     ], 
     "language": "python", 
     "outputs": [
      {
       "output_type": "pyout", 
       "prompt_number": 166, 
       "text": [
        "array([[ -1.74122008e+00,   8.12414144e-01,   1.92571132e-01,", 
        "          1.08429170e+00,   2.06679480e+00],", 
        "       [  0.00000000e+00,  -1.61918098e+00,  -1.18653207e-01,", 
        "         -2.54449400e+00,  -6.40938430e+00],", 
        "       [  0.00000000e+00,   0.00000000e+00,  -5.84587858e-01,", 
        "         -1.52221581e+00,  -3.50620099e+00],", 
        "       [  0.00000000e+00,   0.00000000e+00,   0.00000000e+00,", 
        "         -1.22493313e-01,  -8.83246464e-02],", 
        "       [  0.00000000e+00,   0.00000000e+00,   0.00000000e+00,", 
        "          0.00000000e+00,   1.00142838e-04]])"
       ]
      }
     ], 
     "prompt_number": 166
    }, 
    {
     "cell_type": "code", 
     "collapsed": false, 
     "input": [
      "samples = np.random.normal(size=(4,4))", 
      "samples"
     ], 
     "language": "python", 
     "outputs": [
      {
       "output_type": "pyout", 
       "prompt_number": 168, 
       "text": [
        "array([[ 0.31800746,  0.94032861, -1.21651922, -0.3277451 ],", 
        "       [ 0.68045986,  0.47258305,  0.39672697, -0.41646129],", 
        "       [-1.41980631, -0.25818388, -2.27550775,  0.5296003 ],", 
        "       [-0.85290244,  0.21629254,  0.4042936 ,  0.28937629]])"
       ]
      }
     ], 
     "prompt_number": 168
    }, 
    {
     "cell_type": "code", 
     "collapsed": false, 
     "input": [
      "from random import normalvariate", 
      "N = 1000000", 
      "%timeit samples = [normalvariate(0,1) for _ in xrange(N)]", 
      "%timeit np.random.normal(size=N)"
     ], 
     "language": "python", 
     "outputs": [
      {
       "output_type": "stream", 
       "stream": "stdout", 
       "text": [
        "1 loops, best of 3: 799 ms per loop", 
        "10 loops, best of 3: 36.5 ms per loop"
       ]
      }, 
      {
       "output_type": "stream", 
       "stream": "stdout", 
       "text": [
        ""
       ]
      }
     ], 
     "prompt_number": 169
    }, 
    {
     "cell_type": "code", 
     "collapsed": false, 
     "input": [
      "import random", 
      "position = 0", 
      "walk = [position]", 
      "steps = 1000", 
      "for i in xrange(steps):", 
      "    step = 1 if random.randint(0,1) else -1", 
      "    position += step", 
      "    walk.append(position)"
     ], 
     "language": "python", 
     "outputs": [
      {
       "ename": "AttributeError", 
       "evalue": "'list' object has no attribute 'plot'", 
       "output_type": "pyerr", 
       "traceback": [
        "<span class=\"ansired\">---------------------------------------------------------------------------</span>\n<span class=\"ansired\">AttributeError</span>                            Traceback (most recent call last)", 
        "<span class=\"ansigreen\">D:\\&lt;ipython-input-185-00305a0e9063&gt;</span> in <span class=\"ansicyan\">&lt;module&gt;</span><span class=\"ansiblue\">()</span>\n<span class=\"ansigreen\">      7</span>     position <span class=\"ansiyellow\">+=</span> step<span class=\"ansiyellow\"></span>\n<span class=\"ansigreen\">      8</span>     walk<span class=\"ansiyellow\">.</span>append<span class=\"ansiyellow\">(</span>position<span class=\"ansiyellow\">)</span><span class=\"ansiyellow\"></span>\n<span class=\"ansigreen\">----&gt; 9</span><span class=\"ansiyellow\"> </span>walk<span class=\"ansiyellow\">.</span>plot<span class=\"ansiyellow\">(</span><span class=\"ansiyellow\">)</span><span class=\"ansiyellow\"></span>\n<span class=\"ansigreen\">     10</span> plt<span class=\"ansiyellow\">.</span>title<span class=\"ansiyellow\">(</span><span class=\"ansiblue\">&quot;walk&quot;</span><span class=\"ansiyellow\">)</span><span class=\"ansiyellow\"></span>\n", 
        "<span class=\"ansired\">AttributeError</span>: &apos;list&apos; object has no attribute &apos;plot&apos;"
       ]
      }
     ], 
     "prompt_number": 185
    }, 
    {
     "cell_type": "code", 
     "collapsed": false, 
     "input": [
      "nsteps = 1000", 
      "draws = np.random.randint(0,2,size=nsteps)", 
      "steps = np.where(draws > 0,1,-1)", 
      "walk = steps.cumsum()", 
      "walk.min()"
     ], 
     "language": "python", 
     "outputs": [
      {
       "output_type": "pyout", 
       "prompt_number": 186, 
       "text": [
        "-11"
       ]
      }
     ], 
     "prompt_number": 186
    }, 
    {
     "cell_type": "code", 
     "collapsed": false, 
     "input": [
      "walk.max()"
     ], 
     "language": "python", 
     "outputs": [
      {
       "output_type": "pyout", 
       "prompt_number": 192, 
       "text": [
        "24"
       ]
      }
     ], 
     "prompt_number": 192
    }, 
    {
     "cell_type": "code", 
     "collapsed": false, 
     "input": [
      "hits30 = (np.abs(walk) >= 30).any(1)", 
      "hits30"
     ], 
     "language": "python", 
     "outputs": [
      {
       "ename": "ValueError", 
       "evalue": "'axis' entry is out of bounds", 
       "output_type": "pyerr", 
       "traceback": [
        "<span class=\"ansired\">---------------------------------------------------------------------------</span>\n<span class=\"ansired\">ValueError</span>                                Traceback (most recent call last)", 
        "<span class=\"ansigreen\">D:\\&lt;ipython-input-191-5d1e559c0f85&gt;</span> in <span class=\"ansicyan\">&lt;module&gt;</span><span class=\"ansiblue\">()</span>\n<span class=\"ansigreen\">----&gt; 1</span><span class=\"ansiyellow\"> </span>hits30 <span class=\"ansiyellow\">=</span> <span class=\"ansiyellow\">(</span>np<span class=\"ansiyellow\">.</span>abs<span class=\"ansiyellow\">(</span>walk<span class=\"ansiyellow\">)</span> <span class=\"ansiyellow\">&gt;=</span> <span class=\"ansicyan\">30</span><span class=\"ansiyellow\">)</span><span class=\"ansiyellow\">.</span>any<span class=\"ansiyellow\">(</span><span class=\"ansicyan\">1</span><span class=\"ansiyellow\">)</span><span class=\"ansiyellow\"></span>\n<span class=\"ansigreen\">      2</span> hits30<span class=\"ansiyellow\"></span>\n", 
        "<span class=\"ansigreen\">C:\\Python27\\lib\\site-packages\\numpy\\core\\_methods.pyc</span> in <span class=\"ansicyan\">_any</span><span class=\"ansiblue\">(a, axis, dtype, out, keepdims)</span>\n<span class=\"ansigreen\">     36</span> <span class=\"ansiyellow\"></span>\n<span class=\"ansigreen\">     37</span> <span class=\"ansigreen\">def</span> _any<span class=\"ansiyellow\">(</span>a<span class=\"ansiyellow\">,</span> axis<span class=\"ansiyellow\">=</span>None<span class=\"ansiyellow\">,</span> dtype<span class=\"ansiyellow\">=</span>None<span class=\"ansiyellow\">,</span> out<span class=\"ansiyellow\">=</span>None<span class=\"ansiyellow\">,</span> keepdims<span class=\"ansiyellow\">=</span>False<span class=\"ansiyellow\">)</span><span class=\"ansiyellow\">:</span><span class=\"ansiyellow\"></span>\n<span class=\"ansigreen\">---&gt; 38</span><span class=\"ansiyellow\">     </span><span class=\"ansigreen\">return</span> umr_any<span class=\"ansiyellow\">(</span>a<span class=\"ansiyellow\">,</span> axis<span class=\"ansiyellow\">,</span> dtype<span class=\"ansiyellow\">,</span> out<span class=\"ansiyellow\">,</span> keepdims<span class=\"ansiyellow\">)</span><span class=\"ansiyellow\"></span>\n<span class=\"ansigreen\">     39</span> <span class=\"ansiyellow\"></span>\n<span class=\"ansigreen\">     40</span> <span class=\"ansigreen\">def</span> _all<span class=\"ansiyellow\">(</span>a<span class=\"ansiyellow\">,</span> axis<span class=\"ansiyellow\">=</span>None<span class=\"ansiyellow\">,</span> dtype<span class=\"ansiyellow\">=</span>None<span class=\"ansiyellow\">,</span> out<span class=\"ansiyellow\">=</span>None<span class=\"ansiyellow\">,</span> keepdims<span class=\"ansiyellow\">=</span>False<span class=\"ansiyellow\">)</span><span class=\"ansiyellow\">:</span><span class=\"ansiyellow\"></span>\n", 
        "<span class=\"ansired\">ValueError</span>: &apos;axis&apos; entry is out of bounds"
       ]
      }
     ], 
     "prompt_number": 191
    }, 
    {
     "cell_type": "code", 
     "collapsed": true, 
     "input": [], 
     "language": "python", 
     "outputs": [], 
     "prompt_number": 191
    }, 
    {
     "cell_type": "code", 
     "collapsed": true, 
     "input": [], 
     "language": "python", 
     "outputs": [], 
     "prompt_number": "&nbsp;"
    }
   ]
  }
 ]
}